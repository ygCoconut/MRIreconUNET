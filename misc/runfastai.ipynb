{
 "cells": [
  {
   "cell_type": "markdown",
   "metadata": {},
   "source": [
    "# This notebook helps you to do several things:\n",
    "1) Find your optimal learning rate\n",
    "https://docs.fast.ai/callbacks.html#LRFinder\n",
    "2) "
   ]
  },
  {
   "cell_type": "code",
   "execution_count": null,
   "metadata": {},
   "outputs": [],
   "source": []
  },
  {
   "cell_type": "code",
   "execution_count": 1,
   "metadata": {},
   "outputs": [],
   "source": [
    "%reload_ext autoreload\n",
    "%autoreload 2\n",
    "\n",
    "import fastai\n",
    "from fastai.callbacks import *\n",
    "\n",
    "from torch.utils.data import Dataset, DataLoader\n",
    "from models import UNet2d_assembled\n",
    "import numpy as np\n",
    "import torch\n",
    "from fastai.vision import *\n",
    "\n",
    "torch.backends.cudnn.benchmark = True"
   ]
  },
  {
   "cell_type": "code",
   "execution_count": 2,
   "metadata": {},
   "outputs": [],
   "source": [
    "DEVICE = 'cuda'\n",
    "OS = 'Windows'\n",
    "\n"
   ]
  },
  {
   "cell_type": "code",
   "execution_count": 6,
   "metadata": {},
   "outputs": [],
   "source": [
    "# GET DATASET\n",
    "class CMRIreconDataset(Dataset):\n",
    "    \"\"\"CMRIrecon dataset.\"\"\"\n",
    "    def __init__(self, input_file_path, target_file_path):\n",
    "        \"\"\"\n",
    "        Args:\n",
    "            csv_file (string): Path to the csv file with annotations.\n",
    "            root_dir (string): Directory with all the images.\n",
    "            transform (callable, optional): Optional transform to be applied\n",
    "                on a sample.\n",
    "        \"\"\"\n",
    "        self.inputs = np.load(input_file_path)\n",
    "        self.targets = np.load(target_file_path)\n",
    "\n",
    "    def __len__(self):\n",
    "#         print(\"print length of inputs\",len(self.inputs))\n",
    "#         print(\"print shape of inputs\",np.shape(self.inputs))\n",
    "        return len(self.inputs)\n",
    "\n",
    "    def __getitem__(self, idx):\n",
    "\n",
    "#         sample = {'input': self.inputs[idx], 'target': self.targets[idx]}\n",
    "        X = self.inputs[idx].astype(np.float32)\n",
    "        Y = self.targets[idx].astype(np.float32)\n",
    "        return  X, Y\n",
    "\n"
   ]
  },
  {
   "cell_type": "code",
   "execution_count": 7,
   "metadata": {},
   "outputs": [
    {
     "name": "stdout",
     "output_type": "stream",
     "text": [
      "\n",
      "Split dataset into train data (80%) and test data (20%)...\n",
      "\n",
      "\n",
      "Split train data into train data (80%) and val data (20%)...\n",
      "\n",
      "Load train_dl, val_dl and test_dl...\n",
      "train_dl, val_dl and test_dl loaded!\n"
     ]
    }
   ],
   "source": [
    "\n",
    "\n",
    "if OS == 'Linux':\n",
    "    CMRIdataset = CMRIreconDataset(\n",
    "        input_file_path = \\\n",
    "        '/home/nw92/reconproject_data/input_data.npy', \\\n",
    "        target_file_path = \\\n",
    "        '/home/nw92/reconproject_data/target_data.npy')\n",
    "\n",
    "elif OS == 'Windows':\n",
    "    CMRIdataset = CMRIreconDataset(\n",
    "        input_file_path = \\\n",
    "        'C:/Users/littl/Documents/PythonScripts/reconproject_data/input_data.npy', \\\n",
    "        target_file_path = \\\n",
    "        'C:/Users/littl/Documents/PythonScripts/reconproject_data/target_data.npy')\n",
    "\n",
    "else:\n",
    "    print(\"Please use valid COMPUTER.\\nOptions:\\t\\'Windows\\'\\t\\'Linux\\'\")\n",
    "\n",
    "\n",
    "# SPLIT DATASET INTO TRAIN, VAL AND TEST #####################################\n",
    "# CMRIdataset = train_dataset + test_dataset\n",
    "print(\"\\nSplit dataset into train data (80%) and test data (20%)...\\n\")\n",
    "train_size = int(0.8 * len(CMRIdataset))\n",
    "test_size = len(CMRIdataset) - train_size\n",
    "train_dataset, test_dataset = torch.utils.data.random_split(CMRIdataset, [train_size, test_size])\n",
    "\n",
    "# train_dataset = train_dataset + val_dataset\n",
    "print(\"\\nSplit train data into train data (80%) and val data (20%)...\\n\")\n",
    "train_size = int(0.8 * len(train_dataset))\n",
    "val_size = len(train_dataset) - train_size\n",
    "train_dataset, val_dataset = torch.utils.data.random_split(train_dataset, [train_size, val_size])\n",
    "\n",
    "\n",
    "print(\"Load train_dl, val_dl and test_dl...\")\n",
    "# load train set\n",
    "train_dl = DataLoader(train_dataset, batch_size=16,\n",
    "                    shuffle=True, num_workers=0)\n",
    "# load validation set\n",
    "valid_dl = DataLoader(val_dataset, batch_size=16,\n",
    "                    shuffle=True, num_workers=0)\n",
    "# load test set\n",
    "test_dl = DataLoader(test_dataset, batch_size=16,\n",
    "                    shuffle=True, num_workers=0)\n",
    "\n",
    "print(\"train_dl, val_dl and test_dl loaded!\")\n",
    "\n",
    "\n",
    "# # DEFINE DATABUNCH TO FEED THE MODEL\n",
    "data = DataBunch(train_dl,\n",
    "        valid_dl,\n",
    "        test_dl,\n",
    "        device=DEVICE,\n",
    "        # dl_tfms:Optional[Collection[Callable]]=None,\n",
    "        # path:PathOrStr='.',\n",
    "        # collate_fn:Callable='data_collate',\n",
    "        # no_check:bool=False\n",
    "        )\n",
    "\n",
    "\n",
    "# data.show_batch(rows=4)"
   ]
  },
  {
   "cell_type": "code",
   "execution_count": 8,
   "metadata": {},
   "outputs": [
    {
     "data": {
      "text/html": [],
      "text/plain": [
       "<IPython.core.display.HTML object>"
      ]
     },
     "metadata": {},
     "output_type": "display_data"
    },
    {
     "name": "stdout",
     "output_type": "stream",
     "text": [
      "LR Finder is complete, type {learner_name}.recorder.plot() to see the graph.\n"
     ]
    }
   ],
   "source": [
    "# DEFINE LEARNER\n",
    "loss_func = nn.MSELoss()\n",
    "metrics = mean_absolute_error\n",
    "model = UNet2d_assembled.UNet2D(20) #20 channels\n",
    "\n",
    "learn = Learner(data = data,\n",
    "        model = model,\n",
    "        # opt_func:Callable='Adam',\n",
    "        loss_func = loss_func,\n",
    "        metrics = metrics,\n",
    "#         callback_fns=[CSVLogger],\n",
    "        # true_wd:bool=True,\n",
    "        # bn_wd:bool=True,\n",
    "        # wd:Floats=0.01,\n",
    "        # train_bn:bool=True,\n",
    "        # path:str=None,\n",
    "        # model_dir:PathOrStr='models',\n",
    "        # callback_fns:Collection[Callable]=None,\n",
    "        # callbacks:Collection[Callback]=<factory>,\n",
    "        # layer_groups:ModuleList=None,\n",
    "        # add_time:bool=True,\n",
    "        # silent:bool=None\n",
    "        )\n",
    "\n",
    "# learn.summary()\n",
    "learn.lr_find(start_lr=1e-07, end_lr=10)\n",
    "# learn = cnn_learner(data, models.resnet18, metrics=accuracy)\n",
    "# learn.fit(1)"
   ]
  },
  {
   "cell_type": "code",
   "execution_count": null,
   "metadata": {},
   "outputs": [],
   "source": []
  },
  {
   "cell_type": "code",
   "execution_count": 9,
   "metadata": {},
   "outputs": [
    {
     "data": {
      "image/png": "[encoded data removed]",
      "text/plain": [
       "<Figure size 432x288 with 1 Axes>"
      ]
     },
     "metadata": {
      "needs_background": "light"
     },
     "output_type": "display_data"
    }
   ],
   "source": [
    "learn.recorder.plot()\n"
   ]
  },
  {
   "cell_type": "code",
   "execution_count": 10,
   "metadata": {
    "scrolled": true
   },
   "outputs": [
    {
     "data": {
      "image/png": "[encoded data removed]",
      "text/plain": [
       "<Figure size 432x288 with 1 Axes>"
      ]
     },
     "metadata": {
      "needs_background": "light"
     },
     "output_type": "display_data"
    }
   ],
   "source": [
    "learn.recorder.plot()"
   ]
  },
  {
   "cell_type": "code",
   "execution_count": 11,
   "metadata": {},
   "outputs": [],
   "source": [
    "lr = 1.5e-2"
   ]
  },
  {
   "cell_type": "code",
   "execution_count": 13,
   "metadata": {},
   "outputs": [
    {
     "data": {
      "text/html": [
       "<table border=\"1\" class=\"dataframe\">\n",
       "  <thead>\n",
       "    <tr style=\"text-align: left;\">\n",
       "      <th>epoch</th>\n",
       "      <th>train_loss</th>\n",
       "      <th>valid_loss</th>\n",
       "      <th>mean_absolute_error</th>\n",
       "      <th>time</th>\n",
       "    </tr>\n",
       "  </thead>\n",
       "  <tbody>\n",
       "    <tr>\n",
       "      <td>0</td>\n",
       "      <td>0.674943</td>\n",
       "      <td>16113.897461</td>\n",
       "      <td>75.433685</td>\n",
       "      <td>00:11</td>\n",
       "    </tr>\n",
       "    <tr>\n",
       "      <td>1</td>\n",
       "      <td>0.522100</td>\n",
       "      <td>0.491363</td>\n",
       "      <td>0.450489</td>\n",
       "      <td>00:10</td>\n",
       "    </tr>\n",
       "    <tr>\n",
       "      <td>2</td>\n",
       "      <td>0.470115</td>\n",
       "      <td>0.423704</td>\n",
       "      <td>0.404530</td>\n",
       "      <td>00:10</td>\n",
       "    </tr>\n",
       "  </tbody>\n",
       "</table>"
      ],
      "text/plain": [
       "<IPython.core.display.HTML object>"
      ]
     },
     "metadata": {},
     "output_type": "display_data"
    }
   ],
   "source": [
    "learn.fit_one_cycle(3, lr)"
   ]
  },
  {
   "cell_type": "code",
   "execution_count": 14,
   "metadata": {},
   "outputs": [
    {
     "data": {
      "image/png": "[encoded data removed]",
      "text/plain": [
       "<Figure size 864x288 with 2 Axes>"
      ]
     },
     "metadata": {
      "needs_background": "light"
     },
     "output_type": "display_data"
    }
   ],
   "source": [
    "learn.recorder.plot_lr(show_moms=True)"
   ]
  },
  {
   "cell_type": "code",
   "execution_count": 16,
   "metadata": {},
   "outputs": [],
   "source": [
    "learn = Learner(data = data,\n",
    "        model = model,\n",
    "        # opt_func:Callable='Adam',\n",
    "        loss_func = loss_func,\n",
    "        metrics = metrics,\n",
    "        callback_fns=[CSVLogger],\n",
    "        # true_wd:bool=True,\n",
    "        # bn_wd:bool=True,\n",
    "        # wd:Floats=0.01,\n",
    "        # train_bn:bool=True,\n",
    "        # path:str=None,\n",
    "        # model_dir:PathOrStr='models',\n",
    "        # callback_fns:Collection[Callable]=None,\n",
    "        # callbacks:Collection[Callback]=<factory>,\n",
    "        # layer_groups:ModuleList=None,\n",
    "        # add_time:bool=True,\n",
    "        # silent:bool=None\n",
    "        )\n"
   ]
  },
  {
   "cell_type": "code",
   "execution_count": 17,
   "metadata": {},
   "outputs": [
    {
     "data": {
      "text/html": [
       "<table border=\"1\" class=\"dataframe\">\n",
       "  <thead>\n",
       "    <tr style=\"text-align: left;\">\n",
       "      <th>epoch</th>\n",
       "      <th>train_loss</th>\n",
       "      <th>valid_loss</th>\n",
       "      <th>mean_absolute_error</th>\n",
       "      <th>time</th>\n",
       "    </tr>\n",
       "  </thead>\n",
       "  <tbody>\n",
       "    <tr>\n",
       "      <td>0</td>\n",
       "      <td>0.427212</td>\n",
       "      <td>0.462560</td>\n",
       "      <td>0.406562</td>\n",
       "      <td>00:07</td>\n",
       "    </tr>\n",
       "    <tr>\n",
       "      <td>1</td>\n",
       "      <td>0.424650</td>\n",
       "      <td>0.443945</td>\n",
       "      <td>0.415111</td>\n",
       "      <td>00:07</td>\n",
       "    </tr>\n",
       "    <tr>\n",
       "      <td>2</td>\n",
       "      <td>0.415703</td>\n",
       "      <td>0.438014</td>\n",
       "      <td>0.403081</td>\n",
       "      <td>00:07</td>\n",
       "    </tr>\n",
       "  </tbody>\n",
       "</table>"
      ],
      "text/plain": [
       "<IPython.core.display.HTML object>"
      ]
     },
     "metadata": {},
     "output_type": "display_data"
    }
   ],
   "source": [
    "learn.fit(3)"
   ]
  },
  {
   "cell_type": "code",
   "execution_count": 15,
   "metadata": {},
   "outputs": [
    {
     "data": {
      "text/html": [
       "<table border=\"1\" class=\"dataframe\">\n",
       "  <thead>\n",
       "    <tr style=\"text-align: left;\">\n",
       "      <th>epoch</th>\n",
       "      <th>train_loss</th>\n",
       "      <th>valid_loss</th>\n",
       "      <th>mean_absolute_error</th>\n",
       "      <th>time</th>\n",
       "    </tr>\n",
       "  </thead>\n",
       "  <tbody>\n",
       "    <tr>\n",
       "      <td>0</td>\n",
       "      <td>0.415450</td>\n",
       "      <td>0.421912</td>\n",
       "      <td>0.407842</td>\n",
       "      <td>00:10</td>\n",
       "    </tr>\n",
       "    <tr>\n",
       "      <td>1</td>\n",
       "      <td>0.412119</td>\n",
       "      <td>0.419652</td>\n",
       "      <td>0.406406</td>\n",
       "      <td>00:10</td>\n",
       "    </tr>\n",
       "    <tr>\n",
       "      <td>2</td>\n",
       "      <td>0.410393</td>\n",
       "      <td>0.419641</td>\n",
       "      <td>0.415870</td>\n",
       "      <td>00:10</td>\n",
       "    </tr>\n",
       "  </tbody>\n",
       "</table>"
      ],
      "text/plain": [
       "<IPython.core.display.HTML object>"
      ]
     },
     "metadata": {},
     "output_type": "display_data"
    }
   ],
   "source": [
    "learn.fit(3)"
   ]
  },
  {
   "cell_type": "code",
   "execution_count": 16,
   "metadata": {},
   "outputs": [
    {
     "data": {
      "text/html": [
       "<table border=\"1\" class=\"dataframe\">\n",
       "  <thead>\n",
       "    <tr style=\"text-align: left;\">\n",
       "      <th>epoch</th>\n",
       "      <th>train_loss</th>\n",
       "      <th>valid_loss</th>\n",
       "      <th>mean_absolute_error</th>\n",
       "      <th>time</th>\n",
       "    </tr>\n",
       "  </thead>\n",
       "  <tbody>\n",
       "    <tr>\n",
       "      <td>0</td>\n",
       "      <td>0.442372</td>\n",
       "      <td>9.325814</td>\n",
       "      <td>1.738970</td>\n",
       "      <td>00:11</td>\n",
       "    </tr>\n",
       "    <tr>\n",
       "      <td>1</td>\n",
       "      <td>0.434842</td>\n",
       "      <td>1.561033</td>\n",
       "      <td>0.679737</td>\n",
       "      <td>00:10</td>\n",
       "    </tr>\n",
       "    <tr>\n",
       "      <td>2</td>\n",
       "      <td>0.429136</td>\n",
       "      <td>0.512810</td>\n",
       "      <td>0.495250</td>\n",
       "      <td>00:10</td>\n",
       "    </tr>\n",
       "  </tbody>\n",
       "</table>"
      ],
      "text/plain": [
       "<IPython.core.display.HTML object>"
      ]
     },
     "metadata": {},
     "output_type": "display_data"
    }
   ],
   "source": [
    "learn.fit(3, 1e-1)"
   ]
  },
  {
   "cell_type": "code",
   "execution_count": 18,
   "metadata": {},
   "outputs": [
    {
     "data": {
      "text/html": [
       "<div>\n",
       "<style scoped>\n",
       "    .dataframe tbody tr th:only-of-type {\n",
       "        vertical-align: middle;\n",
       "    }\n",
       "\n",
       "    .dataframe tbody tr th {\n",
       "        vertical-align: top;\n",
       "    }\n",
       "\n",
       "    .dataframe thead th {\n",
       "        text-align: right;\n",
       "    }\n",
       "</style>\n",
       "<table border=\"1\" class=\"dataframe\">\n",
       "  <thead>\n",
       "    <tr style=\"text-align: right;\">\n",
       "      <th></th>\n",
       "      <th>epoch</th>\n",
       "      <th>train_loss</th>\n",
       "      <th>valid_loss</th>\n",
       "      <th>mean_absolute_error</th>\n",
       "      <th>time</th>\n",
       "    </tr>\n",
       "  </thead>\n",
       "  <tbody>\n",
       "    <tr>\n",
       "      <th>0</th>\n",
       "      <td>0</td>\n",
       "      <td>0.427212</td>\n",
       "      <td>0.462560</td>\n",
       "      <td>0.406562</td>\n",
       "      <td>00:07</td>\n",
       "    </tr>\n",
       "    <tr>\n",
       "      <th>1</th>\n",
       "      <td>1</td>\n",
       "      <td>0.424650</td>\n",
       "      <td>0.443945</td>\n",
       "      <td>0.415111</td>\n",
       "      <td>00:07</td>\n",
       "    </tr>\n",
       "    <tr>\n",
       "      <th>2</th>\n",
       "      <td>2</td>\n",
       "      <td>0.415703</td>\n",
       "      <td>0.438014</td>\n",
       "      <td>0.403081</td>\n",
       "      <td>00:07</td>\n",
       "    </tr>\n",
       "  </tbody>\n",
       "</table>\n",
       "</div>"
      ],
      "text/plain": [
       "   epoch  train_loss  valid_loss  mean_absolute_error   time\n",
       "0      0    0.427212    0.462560             0.406562  00:07\n",
       "1      1    0.424650    0.443945             0.415111  00:07\n",
       "2      2    0.415703    0.438014             0.403081  00:07"
      ]
     },
     "execution_count": 18,
     "metadata": {},
     "output_type": "execute_result"
    }
   ],
   "source": [
    "learn.csv_logger.read_logged_file()"
   ]
  },
  {
   "cell_type": "code",
   "execution_count": 28,
   "metadata": {},
   "outputs": [],
   "source": [
    "def fit_odd_shedule(learn, lr):\n",
    "    n = len(learn.data.train_dl)\n",
    "    phases = [TrainingPhase(n).schedule_hp('lr', lr, anneal=annealing_cos), \n",
    "              TrainingPhase(n*2).schedule_hp('lr', lr, anneal=annealing_poly(2))]\n",
    "    sched = GeneralScheduler(learn, phases)\n",
    "    learn.callbacks.append(sched)\n",
    "    total_epochs = 3\n",
    "    learn.fit(total_epochs)"
   ]
  },
  {
   "cell_type": "code",
   "execution_count": 31,
   "metadata": {},
   "outputs": [
    {
     "data": {
      "text/html": [
       "<table border=\"1\" class=\"dataframe\">\n",
       "  <thead>\n",
       "    <tr style=\"text-align: left;\">\n",
       "      <th>epoch</th>\n",
       "      <th>train_loss</th>\n",
       "      <th>valid_loss</th>\n",
       "      <th>mean_absolute_error</th>\n",
       "      <th>time</th>\n",
       "    </tr>\n",
       "  </thead>\n",
       "  <tbody>\n",
       "    <tr>\n",
       "      <td>0</td>\n",
       "      <td>0.462393</td>\n",
       "      <td>0.493008</td>\n",
       "      <td>0.417751</td>\n",
       "      <td>00:12</td>\n",
       "    </tr>\n",
       "    <tr>\n",
       "      <td>1</td>\n",
       "      <td>0.437910</td>\n",
       "      <td>0.422279</td>\n",
       "      <td>0.389722</td>\n",
       "      <td>00:08</td>\n",
       "    </tr>\n",
       "    <tr>\n",
       "      <td>2</td>\n",
       "      <td>0.423202</td>\n",
       "      <td>0.410584</td>\n",
       "      <td>0.394305</td>\n",
       "      <td>00:08</td>\n",
       "    </tr>\n",
       "  </tbody>\n",
       "</table>"
      ],
      "text/plain": [
       "<IPython.core.display.HTML object>"
      ]
     },
     "metadata": {},
     "output_type": "display_data"
    }
   ],
   "source": [
    "learn = Learner(data = data,\n",
    "        model = model,\n",
    "        # opt_func:Callable='Adam',\n",
    "        loss_func = loss_func,\n",
    "        metrics = metrics,\n",
    "#         callback_fns=[CSVLogger],\n",
    "        # true_wd:bool=True,\n",
    "        # bn_wd:bool=True,\n",
    "        # wd:Floats=0.01,\n",
    "        # train_bn:bool=True,\n",
    "        # path:str=None,\n",
    "        # model_dir:PathOrStr='models',\n",
    "        # callback_fns:Collection[Callable]=None,\n",
    "        # callbacks:Collection[Callback]=<factory>,\n",
    "        # layer_groups:ModuleList=None,\n",
    "        # add_time:bool=True,\n",
    "        # silent:bool=None\n",
    "        )\n",
    "fit_odd_shedule(learn, lr)"
   ]
  },
  {
   "cell_type": "code",
   "execution_count": 32,
   "metadata": {},
   "outputs": [
    {
     "data": {
      "image/png": "[encoded data removed]",
      "text/plain": [
       "<Figure size 432x288 with 1 Axes>"
      ]
     },
     "metadata": {
      "needs_background": "light"
     },
     "output_type": "display_data"
    }
   ],
   "source": [
    "learn.recorder.plot_lr()"
   ]
  },
  {
   "cell_type": "code",
   "execution_count": 40,
   "metadata": {},
   "outputs": [],
   "source": [
    "learn = Learner(data = data,\n",
    "        model = model,\n",
    "        # opt_func:Callable='Adam',\n",
    "        loss_func = loss_func,\n",
    "        metrics = metrics,\n",
    "#         callback_fns=[CSVLogger,\n",
    "#             SaveModelCallback(learn,\n",
    "#                         every='epoch',\n",
    "#                         monitor='valid_loss')],\n",
    "                \n",
    "        # true_wd:bool=True,\n",
    "        # bn_wd:bool=True,\n",
    "        # wd:Floats=0.01,\n",
    "        # train_bn:bool=True,\n",
    "        # path:str=None,\n",
    "        # model_dir:PathOrStr='models',\n",
    "        # callback_fns:Collection[Callable]=None,\n",
    "        # callbacks:Collection[Callback]=<factory>,\n",
    "        # layer_groups:ModuleList=None,\n",
    "        # add_time:bool=True,\n",
    "        # silent:bool=None\n",
    "        )"
   ]
  },
  {
   "cell_type": "code",
   "execution_count": 41,
   "metadata": {},
   "outputs": [
    {
     "data": {
      "text/html": [
       "<table border=\"1\" class=\"dataframe\">\n",
       "  <thead>\n",
       "    <tr style=\"text-align: left;\">\n",
       "      <th>epoch</th>\n",
       "      <th>train_loss</th>\n",
       "      <th>valid_loss</th>\n",
       "      <th>mean_absolute_error</th>\n",
       "      <th>time</th>\n",
       "    </tr>\n",
       "  </thead>\n",
       "  <tbody>\n",
       "    <tr>\n",
       "      <td>0</td>\n",
       "      <td>0.418422</td>\n",
       "      <td>0.549371</td>\n",
       "      <td>0.445996</td>\n",
       "      <td>00:08</td>\n",
       "    </tr>\n",
       "    <tr>\n",
       "      <td>1</td>\n",
       "      <td>0.414184</td>\n",
       "      <td>0.406664</td>\n",
       "      <td>0.389042</td>\n",
       "      <td>00:08</td>\n",
       "    </tr>\n",
       "    <tr>\n",
       "      <td>2</td>\n",
       "      <td>0.408365</td>\n",
       "      <td>0.400928</td>\n",
       "      <td>0.390590</td>\n",
       "      <td>00:08</td>\n",
       "    </tr>\n",
       "  </tbody>\n",
       "</table>"
      ],
      "text/plain": [
       "<IPython.core.display.HTML object>"
      ]
     },
     "metadata": {},
     "output_type": "display_data"
    }
   ],
   "source": [
    "learn.fit_one_cycle(3, lr,\n",
    "        callbacks=[fastai.callbacks.SaveModelCallback(learn, every='epoch', monitor='valid_loss')])"
   ]
  },
  {
   "cell_type": "code",
   "execution_count": null,
   "metadata": {},
   "outputs": [],
   "source": []
  }
 ],
 "metadata": {
  "kernelspec": {
   "display_name": "Python 3",
   "language": "python",
   "name": "python3"
  },
  "language_info": {
   "codemirror_mode": {
    "name": "ipython",
    "version": 3
   },
   "file_extension": ".py",
   "mimetype": "text/x-python",
   "name": "python",
   "nbconvert_exporter": "python",
   "pygments_lexer": "ipython3",
   "version": "3.6.8"
  }
 },
 "nbformat": 4,
 "nbformat_minor": 2
}
